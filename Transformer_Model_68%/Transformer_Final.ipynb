{
  "nbformat": 4,
  "nbformat_minor": 0,
  "metadata": {
    "colab": {
      "name": "Transformer_Final.ipynb",
      "provenance": [],
      "collapsed_sections": [],
      "toc_visible": true
    },
    "kernelspec": {
      "name": "python3",
      "display_name": "Python 3"
    },
    "accelerator": "GPU"
  },
  "cells": [
    {
      "cell_type": "code",
      "metadata": {
        "id": "pc3TfwQ7PZhb",
        "colab_type": "code",
        "outputId": "16d72275-c216-4de1-a2df-5ea9c7252cae",
        "colab": {
          "base_uri": "https://localhost:8080/",
          "height": 102
        }
      },
      "source": [
        "import pandas as pd\n",
        "import re\n",
        "import os\n",
        "import time\n",
        "import random\n",
        "import numpy as np\n",
        "\n",
        "try:\n",
        "  %tensorflow_version 2.x # enable TF 2.x in Colab\n",
        "except Exception:\n",
        "  pass\n",
        "\n",
        "import tensorflow as tf\n",
        "import matplotlib.pyplot as plt\n",
        "import matplotlib.ticker as ticker\n",
        "from sklearn.model_selection import train_test_split\n",
        "from google.colab import drive\n",
        "import pickle\n",
        "\n",
        "import spacy\n",
        "\n",
        "nlp = spacy.load(\"en_core_web_sm\")\n",
        "from nltk.translate.bleu_score import corpus_bleu"
      ],
      "execution_count": 1,
      "outputs": [
        {
          "output_type": "stream",
          "text": [
            "`%tensorflow_version` only switches the major version: `1.x` or `2.x`.\n",
            "You set: `2.x # enable TF 2.x in Colab`. This will be interpreted as: `2.x`.\n",
            "\n",
            "\n",
            "TensorFlow 2.x selected.\n"
          ],
          "name": "stdout"
        }
      ]
    },
    {
      "cell_type": "code",
      "metadata": {
        "id": "JnCgKUrrPjQs",
        "colab_type": "code",
        "outputId": "d6849689-c079-422c-9c57-2b87bd4c49f7",
        "colab": {
          "base_uri": "https://localhost:8080/",
          "height": 34
        }
      },
      "source": [
        "tf.__version__"
      ],
      "execution_count": 2,
      "outputs": [
        {
          "output_type": "execute_result",
          "data": {
            "text/plain": [
              "'2.1.0-rc1'"
            ]
          },
          "metadata": {
            "tags": []
          },
          "execution_count": 2
        }
      ]
    },
    {
      "cell_type": "code",
      "metadata": {
        "id": "4u2YzspHkstP",
        "colab_type": "code",
        "outputId": "99cf031d-0321-4b10-d906-480389c06682",
        "colab": {
          "base_uri": "https://localhost:8080/",
          "height": 122
        }
      },
      "source": [
        "# Mount drive\n",
        "drive.mount('/gdrive')\n",
        "drive_root = '/gdrive/My Drive/'"
      ],
      "execution_count": 3,
      "outputs": [
        {
          "output_type": "stream",
          "text": [
            "Go to this URL in a browser: https://accounts.google.com/o/oauth2/auth?client_id=947318989803-6bn6qk8qdgf4n4g3pfee6491hc0brc4i.apps.googleusercontent.com&redirect_uri=urn%3aietf%3awg%3aoauth%3a2.0%3aoob&response_type=code&scope=email%20https%3a%2f%2fwww.googleapis.com%2fauth%2fdocs.test%20https%3a%2f%2fwww.googleapis.com%2fauth%2fdrive%20https%3a%2f%2fwww.googleapis.com%2fauth%2fdrive.photos.readonly%20https%3a%2f%2fwww.googleapis.com%2fauth%2fpeopleapi.readonly\n",
            "\n",
            "Enter your authorization code:\n",
            "··········\n",
            "Mounted at /gdrive\n"
          ],
          "name": "stdout"
        }
      ]
    },
    {
      "cell_type": "markdown",
      "metadata": {
        "colab_type": "text",
        "id": "wNVhL5BxZZsh"
      },
      "source": [
        "### Creating the dataset of word problems\n",
        "\n",
        "*Please add the correct path to load the data file*"
      ]
    },
    {
      "cell_type": "code",
      "metadata": {
        "colab_type": "code",
        "id": "ZhTdlS9DZY3W",
        "colab": {}
      },
      "source": [
        "with open('data_final.pkl', 'rb') as f:\n",
        "  df = pickle.load(f)"
      ],
      "execution_count": 0,
      "outputs": []
    },
    {
      "cell_type": "code",
      "metadata": {
        "colab_type": "code",
        "id": "dD1ge883ZYMh",
        "outputId": "c537efe0-3d7b-460d-f9b5-dc01d474382d",
        "colab": {
          "base_uri": "https://localhost:8080/",
          "height": 34
        }
      },
      "source": [
        "df.shape"
      ],
      "execution_count": 5,
      "outputs": [
        {
          "output_type": "execute_result",
          "data": {
            "text/plain": [
              "(38144, 2)"
            ]
          },
          "metadata": {
            "tags": []
          },
          "execution_count": 5
        }
      ]
    },
    {
      "cell_type": "code",
      "metadata": {
        "colab_type": "code",
        "outputId": "6eef2ae1-68cd-433c-8852-076f9ea57439",
        "id": "mIc3Bv2KZW6-",
        "colab": {
          "base_uri": "https://localhost:8080/",
          "height": 204
        }
      },
      "source": [
        "df.head()"
      ],
      "execution_count": 6,
      "outputs": [
        {
          "output_type": "execute_result",
          "data": {
            "text/html": [
              "<div>\n",
              "<style scoped>\n",
              "    .dataframe tbody tr th:only-of-type {\n",
              "        vertical-align: middle;\n",
              "    }\n",
              "\n",
              "    .dataframe tbody tr th {\n",
              "        vertical-align: top;\n",
              "    }\n",
              "\n",
              "    .dataframe thead th {\n",
              "        text-align: right;\n",
              "    }\n",
              "</style>\n",
              "<table border=\"1\" class=\"dataframe\">\n",
              "  <thead>\n",
              "    <tr style=\"text-align: right;\">\n",
              "      <th></th>\n",
              "      <th>Question</th>\n",
              "      <th>Equation</th>\n",
              "    </tr>\n",
              "  </thead>\n",
              "  <tbody>\n",
              "    <tr>\n",
              "      <th>963</th>\n",
              "      <td>A painter needed to paint 12 rooms in a build...</td>\n",
              "      <td>X=(7.0*(12.0-5.0))</td>\n",
              "    </tr>\n",
              "    <tr>\n",
              "      <th>3897</th>\n",
              "      <td>Brenda had 253 raspberry. John gripped some ra...</td>\n",
              "      <td>X = 253 - 66</td>\n",
              "    </tr>\n",
              "    <tr>\n",
              "      <th>27626</th>\n",
              "      <td>Casey wants to share some Bread among 17 frien...</td>\n",
              "      <td>X = 39 * 17</td>\n",
              "    </tr>\n",
              "    <tr>\n",
              "      <th>32530</th>\n",
              "      <td>Liza had 34 Press. Thomas furnished him some m...</td>\n",
              "      <td>X = 64 - 34</td>\n",
              "    </tr>\n",
              "    <tr>\n",
              "      <th>16266</th>\n",
              "      <td>George wants to distribute 125 mangos among 25...</td>\n",
              "      <td>X = 125 / 25</td>\n",
              "    </tr>\n",
              "  </tbody>\n",
              "</table>\n",
              "</div>"
            ],
            "text/plain": [
              "                                                Question            Equation\n",
              "963     A painter needed to paint 12 rooms in a build...  X=(7.0*(12.0-5.0))\n",
              "3897   Brenda had 253 raspberry. John gripped some ra...        X = 253 - 66\n",
              "27626  Casey wants to share some Bread among 17 frien...         X = 39 * 17\n",
              "32530  Liza had 34 Press. Thomas furnished him some m...         X = 64 - 34\n",
              "16266  George wants to distribute 125 mangos among 25...        X = 125 / 25"
            ]
          },
          "metadata": {
            "tags": []
          },
          "execution_count": 6
        }
      ]
    },
    {
      "cell_type": "code",
      "metadata": {
        "id": "52CngavAg1PM",
        "colab_type": "code",
        "colab": {}
      },
      "source": [
        "input_exps = list(df['Question'].values)"
      ],
      "execution_count": 0,
      "outputs": []
    },
    {
      "cell_type": "code",
      "metadata": {
        "id": "4JFUvCPCP-jp",
        "colab_type": "code",
        "colab": {}
      },
      "source": [
        "def convert_eqn(eqn):\n",
        "  '''\n",
        "  Add a space between every character in the equation string.\n",
        "  Eg: 'x = 23 + 88' becomes 'x =  2 3 + 8 8'\n",
        "  '''\n",
        "  elements = list(eqn)\n",
        "  return ' '.join(elements)"
      ],
      "execution_count": 0,
      "outputs": []
    },
    {
      "cell_type": "code",
      "metadata": {
        "id": "5BP-L86thNKh",
        "colab_type": "code",
        "colab": {}
      },
      "source": [
        "target_exps = list(df['Equation'].apply(lambda x: convert_eqn(x)).values)"
      ],
      "execution_count": 0,
      "outputs": []
    },
    {
      "cell_type": "code",
      "metadata": {
        "id": "GTRQklLBp-YC",
        "colab_type": "code",
        "outputId": "996194cb-07ed-4174-88d1-a2c12303558c",
        "colab": {
          "base_uri": "https://localhost:8080/",
          "height": 122
        }
      },
      "source": [
        "# Input: Word problem\n",
        "input_exps[:5]"
      ],
      "execution_count": 10,
      "outputs": [
        {
          "output_type": "execute_result",
          "data": {
            "text/plain": [
              "[' A painter needed to paint 12 rooms in a building. Each room takes 7 hours to paint. If he already painted 5 rooms, how much longer will he take to paint the rest? ',\n",
              " 'Brenda had 253 raspberry. John gripped some raspberry. Now Brenda has 66  raspberry. How many did John grippeds?',\n",
              " 'Casey wants to share some Bread among 17 friends.If each friend get 39 Bread, then how many Bread john would have?',\n",
              " 'Liza had 34 Press. Thomas furnished him some more. Now Liza has 64 Press. How many did Thomas furnish him?',\n",
              " 'George wants to distribute 125 mangos among 25 friends. How many would each friend acquire?']"
            ]
          },
          "metadata": {
            "tags": []
          },
          "execution_count": 10
        }
      ]
    },
    {
      "cell_type": "code",
      "metadata": {
        "id": "O9DL8tD-6iP9",
        "colab_type": "code",
        "outputId": "57049e79-f715-4750-8ee1-5dd33a92f97b",
        "colab": {
          "base_uri": "https://localhost:8080/",
          "height": 102
        }
      },
      "source": [
        "# Target: Equation\n",
        "target_exps[:5]"
      ],
      "execution_count": 11,
      "outputs": [
        {
          "output_type": "execute_result",
          "data": {
            "text/plain": [
              "['X = ( 7 . 0 * ( 1 2 . 0 - 5 . 0 ) )',\n",
              " 'X   =   2 5 3   -   6 6',\n",
              " 'X   =   3 9   *   1 7',\n",
              " 'X   =   6 4   -   3 4',\n",
              " 'X   =   1 2 5   /   2 5']"
            ]
          },
          "metadata": {
            "tags": []
          },
          "execution_count": 11
        }
      ]
    },
    {
      "cell_type": "code",
      "metadata": {
        "id": "v_MAlVH39Mlh",
        "colab_type": "code",
        "outputId": "e8d9fef8-714b-4822-a25e-fd4c7d36ce42",
        "colab": {
          "base_uri": "https://localhost:8080/",
          "height": 34
        }
      },
      "source": [
        "len(pd.Series(input_exps)), len(pd.Series(input_exps).unique())"
      ],
      "execution_count": 12,
      "outputs": [
        {
          "output_type": "execute_result",
          "data": {
            "text/plain": [
              "(38144, 38144)"
            ]
          },
          "metadata": {
            "tags": []
          },
          "execution_count": 12
        }
      ]
    },
    {
      "cell_type": "code",
      "metadata": {
        "id": "VL3-dcn8YMe3",
        "colab_type": "code",
        "outputId": "ba028e75-edeb-4963-aa70-63549fa0274f",
        "colab": {
          "base_uri": "https://localhost:8080/",
          "height": 34
        }
      },
      "source": [
        "len(pd.Series(target_exps)), len(pd.Series(target_exps).unique())"
      ],
      "execution_count": 13,
      "outputs": [
        {
          "output_type": "execute_result",
          "data": {
            "text/plain": [
              "(38144, 23603)"
            ]
          },
          "metadata": {
            "tags": []
          },
          "execution_count": 13
        }
      ]
    },
    {
      "cell_type": "markdown",
      "metadata": {
        "id": "p-0vtG7rdZdy",
        "colab_type": "text"
      },
      "source": [
        "### Preprocessing and Tokenizing the Input and Target exps"
      ]
    },
    {
      "cell_type": "code",
      "metadata": {
        "id": "8yx7HUtFYZri",
        "colab_type": "code",
        "colab": {}
      },
      "source": [
        "def preprocess_input(sentence):\n",
        "  '''\n",
        "  For the word problem, convert everything to lowercase, add spaces around all\n",
        "  punctuations and digits, and remove any extra spaces. \n",
        "  '''\n",
        "  sentence = sentence.lower().strip()\n",
        "  sentence = re.sub(r\"([?.!,’])\", r\" \\1 \", sentence)\n",
        "  sentence = re.sub(r\"([0-9])\", r\" \\1 \", sentence)\n",
        "  sentence = re.sub(r'[\" \"]+', \" \", sentence)\n",
        "  sentence = sentence.rstrip().strip()\n",
        "  return sentence"
      ],
      "execution_count": 0,
      "outputs": []
    },
    {
      "cell_type": "code",
      "metadata": {
        "id": "IfyWFYbo-Fkt",
        "colab_type": "code",
        "colab": {}
      },
      "source": [
        "def preprocess_target(sentence):\n",
        "  '''\n",
        "  For the equation, convert it to lowercase and remove extra spaces\n",
        "  '''\n",
        "  sentence = sentence.lower().strip()\n",
        "  return sentence"
      ],
      "execution_count": 0,
      "outputs": []
    },
    {
      "cell_type": "code",
      "metadata": {
        "id": "lEAS9242ZUT6",
        "colab_type": "code",
        "colab": {}
      },
      "source": [
        "preprocessed_input_exps = list(map(preprocess_input, input_exps))\n",
        "preprocessed_target_exps = list(map(preprocess_target, target_exps))"
      ],
      "execution_count": 0,
      "outputs": []
    },
    {
      "cell_type": "code",
      "metadata": {
        "id": "sy-bGm81a8yl",
        "colab_type": "code",
        "outputId": "de63c05c-df19-43a0-9b6c-c40ac2a04bf3",
        "colab": {
          "base_uri": "https://localhost:8080/",
          "height": 122
        }
      },
      "source": [
        "preprocessed_input_exps[:5]"
      ],
      "execution_count": 17,
      "outputs": [
        {
          "output_type": "execute_result",
          "data": {
            "text/plain": [
              "['a painter needed to paint 1 2 rooms in a building . each room takes 7 hours to paint . if he already painted 5 rooms , how much longer will he take to paint the rest ?',\n",
              " 'brenda had 2 5 3 raspberry . john gripped some raspberry . now brenda has 6 6 raspberry . how many did john grippeds ?',\n",
              " 'casey wants to share some bread among 1 7 friends . if each friend get 3 9 bread , then how many bread john would have ?',\n",
              " 'liza had 3 4 press . thomas furnished him some more . now liza has 6 4 press . how many did thomas furnish him ?',\n",
              " 'george wants to distribute 1 2 5 mangos among 2 5 friends . how many would each friend acquire ?']"
            ]
          },
          "metadata": {
            "tags": []
          },
          "execution_count": 17
        }
      ]
    },
    {
      "cell_type": "code",
      "metadata": {
        "id": "g15oK28mbA89",
        "colab_type": "code",
        "outputId": "36cea6f1-cf1e-4d61-af2d-f43d8f22df3c",
        "colab": {
          "base_uri": "https://localhost:8080/",
          "height": 102
        }
      },
      "source": [
        "preprocessed_target_exps[:5]"
      ],
      "execution_count": 18,
      "outputs": [
        {
          "output_type": "execute_result",
          "data": {
            "text/plain": [
              "['x = ( 7 . 0 * ( 1 2 . 0 - 5 . 0 ) )',\n",
              " 'x   =   2 5 3   -   6 6',\n",
              " 'x   =   3 9   *   1 7',\n",
              " 'x   =   6 4   -   3 4',\n",
              " 'x   =   1 2 5   /   2 5']"
            ]
          },
          "metadata": {
            "tags": []
          },
          "execution_count": 18
        }
      ]
    },
    {
      "cell_type": "code",
      "metadata": {
        "id": "aKhkEBsfbJaN",
        "colab_type": "code",
        "colab": {}
      },
      "source": [
        "def tokenize(lang):\n",
        "  '''\n",
        "  Tokenize the given list of strings and return the tokenized output\n",
        "  along with the fitted tokenizer.\n",
        "  '''\n",
        "  lang_tokenizer = tf.keras.preprocessing.text.Tokenizer(filters='')\n",
        "  lang_tokenizer.fit_on_texts(lang)\n",
        "  tensor = lang_tokenizer.texts_to_sequences(lang)\n",
        "  return tensor, lang_tokenizer"
      ],
      "execution_count": 0,
      "outputs": []
    },
    {
      "cell_type": "code",
      "metadata": {
        "id": "GL_eLZZAbsHJ",
        "colab_type": "code",
        "colab": {}
      },
      "source": [
        "input_tensor, inp_lang_tokenizer = tokenize(preprocessed_input_exps)"
      ],
      "execution_count": 0,
      "outputs": []
    },
    {
      "cell_type": "code",
      "metadata": {
        "id": "fI2k73bDceJ_",
        "colab_type": "code",
        "outputId": "27310b59-7f52-48fc-a4f4-bc3dc7884786",
        "colab": {
          "base_uri": "https://localhost:8080/",
          "height": 34
        }
      },
      "source": [
        "len(inp_lang_tokenizer.word_index)"
      ],
      "execution_count": 21,
      "outputs": [
        {
          "output_type": "execute_result",
          "data": {
            "text/plain": [
              "5887"
            ]
          },
          "metadata": {
            "tags": []
          },
          "execution_count": 21
        }
      ]
    },
    {
      "cell_type": "code",
      "metadata": {
        "id": "sVIuwYu9b7fH",
        "colab_type": "code",
        "colab": {}
      },
      "source": [
        "target_tensor, targ_lang_tokenizer = tokenize(preprocessed_target_exps)"
      ],
      "execution_count": 0,
      "outputs": []
    },
    {
      "cell_type": "code",
      "metadata": {
        "id": "WqLOtR5h5s9b",
        "colab_type": "code",
        "colab": {}
      },
      "source": [
        "old_len = len(targ_lang_tokenizer.word_index)"
      ],
      "execution_count": 0,
      "outputs": []
    },
    {
      "cell_type": "code",
      "metadata": {
        "id": "z0drKV5Vx6k2",
        "colab_type": "code",
        "colab": {}
      },
      "source": [
        "def append_start_end(x,last_int):\n",
        "  '''\n",
        "  Add integers for start and end tokens for input/target exps\n",
        "  '''\n",
        "  l = []\n",
        "  l.append(last_int+1)\n",
        "  l.extend(x)\n",
        "  l.append(last_int+2)\n",
        "  return l"
      ],
      "execution_count": 0,
      "outputs": []
    },
    {
      "cell_type": "code",
      "metadata": {
        "id": "HepsumSnyLL5",
        "colab_type": "code",
        "colab": {}
      },
      "source": [
        "input_tensor_list = [append_start_end(i,len(inp_lang_tokenizer.word_index)) for i in input_tensor]\n",
        "target_tensor_list = [append_start_end(i,len(targ_lang_tokenizer.word_index)) for i in target_tensor]"
      ],
      "execution_count": 0,
      "outputs": []
    },
    {
      "cell_type": "code",
      "metadata": {
        "id": "onOq9Cj4CajL",
        "colab_type": "code",
        "colab": {}
      },
      "source": [
        "# Pad all sequences such that they are of equal length\n",
        "input_tensor = tf.keras.preprocessing.sequence.pad_sequences(input_tensor_list, padding='post')\n",
        "target_tensor = tf.keras.preprocessing.sequence.pad_sequences(target_tensor_list, padding='post')"
      ],
      "execution_count": 0,
      "outputs": []
    },
    {
      "cell_type": "code",
      "metadata": {
        "id": "Da9_X2TF0qe-",
        "colab_type": "code",
        "colab": {
          "base_uri": "https://localhost:8080/",
          "height": 136
        },
        "outputId": "4dc05482-e0fd-44fd-9ed9-9967ade9896a"
      },
      "source": [
        "input_tensor"
      ],
      "execution_count": 27,
      "outputs": [
        {
          "output_type": "execute_result",
          "data": {
            "text/plain": [
              "array([[5888,  104, 2454, ...,    0,    0,    0],\n",
              "       [5888,  280,    6, ...,    0,    0,    0],\n",
              "       [5888,  811,   43, ...,    0,    0,    0],\n",
              "       ...,\n",
              "       [5888,  380,   12, ...,    0,    0,    0],\n",
              "       [5888,  167,    6, ...,    0,    0,    0],\n",
              "       [5888,  404,    6, ...,    0,    0,    0]], dtype=int32)"
            ]
          },
          "metadata": {
            "tags": []
          },
          "execution_count": 27
        }
      ]
    },
    {
      "cell_type": "code",
      "metadata": {
        "id": "vimEgxw8tCjz",
        "colab_type": "code",
        "colab": {
          "base_uri": "https://localhost:8080/",
          "height": 136
        },
        "outputId": "8af14e97-4409-435d-b630-ebd76e1b2141"
      },
      "source": [
        "target_tensor"
      ],
      "execution_count": 28,
      "outputs": [
        {
          "output_type": "execute_result",
          "data": {
            "text/plain": [
              "array([[46,  2,  1, ...,  0,  0,  0],\n",
              "       [46,  2,  1, ...,  0,  0,  0],\n",
              "       [46,  2,  1, ...,  0,  0,  0],\n",
              "       ...,\n",
              "       [46,  2,  1, ...,  0,  0,  0],\n",
              "       [46,  2,  1, ...,  0,  0,  0],\n",
              "       [46,  2,  1, ...,  0,  0,  0]], dtype=int32)"
            ]
          },
          "metadata": {
            "tags": []
          },
          "execution_count": 28
        }
      ]
    },
    {
      "cell_type": "code",
      "metadata": {
        "id": "8bpeONmscRzr",
        "colab_type": "code",
        "colab": {}
      },
      "source": [
        "# Here we are increasing the vocabulary size of the target, by adding a\n",
        "# few extra vocabulary words (which will not actually be used) as otherwise the\n",
        "# small vocab size causes issues downstream in the network.\n",
        "keys = [str(i) for i in range(10,51)]\n",
        "for i,k in enumerate(keys):\n",
        "  targ_lang_tokenizer.word_index[k]=len(targ_lang_tokenizer.word_index)+i+4"
      ],
      "execution_count": 0,
      "outputs": []
    },
    {
      "cell_type": "code",
      "metadata": {
        "id": "kbO9GO0sb4-3",
        "colab_type": "code",
        "outputId": "03cce3bb-ae47-4cbe-b821-82f04a434fbf",
        "colab": {
          "base_uri": "https://localhost:8080/",
          "height": 34
        }
      },
      "source": [
        "len(targ_lang_tokenizer.word_index)"
      ],
      "execution_count": 30,
      "outputs": [
        {
          "output_type": "execute_result",
          "data": {
            "text/plain": [
              "86"
            ]
          },
          "metadata": {
            "tags": []
          },
          "execution_count": 30
        }
      ]
    },
    {
      "cell_type": "markdown",
      "metadata": {
        "id": "lWKtDz1pdV11",
        "colab_type": "text"
      },
      "source": [
        "### Create a tf.data dataset"
      ]
    },
    {
      "cell_type": "code",
      "metadata": {
        "id": "LWn3alPwcIMw",
        "colab_type": "code",
        "colab": {}
      },
      "source": [
        "# Creating training and validation sets\n",
        "input_tensor_train, input_tensor_val, target_tensor_train, target_tensor_val = train_test_split(input_tensor,\n",
        "                                                                                                target_tensor,\n",
        "                                                                                                test_size=0.05,\n",
        "                                                                                                random_state=42)"
      ],
      "execution_count": 0,
      "outputs": []
    },
    {
      "cell_type": "code",
      "metadata": {
        "id": "JkvMMb7NUG1l",
        "colab_type": "code",
        "outputId": "8f5996d7-914e-4853-a69d-d6217f81623a",
        "colab": {
          "base_uri": "https://localhost:8080/",
          "height": 34
        }
      },
      "source": [
        "len(input_tensor_train)"
      ],
      "execution_count": 32,
      "outputs": [
        {
          "output_type": "execute_result",
          "data": {
            "text/plain": [
              "36236"
            ]
          },
          "metadata": {
            "tags": []
          },
          "execution_count": 32
        }
      ]
    },
    {
      "cell_type": "code",
      "metadata": {
        "id": "X8VnUqe9UE9P",
        "colab_type": "code",
        "outputId": "0fdb4b63-fed5-4c5e-f4ab-f2eb6a211d2b",
        "colab": {
          "base_uri": "https://localhost:8080/",
          "height": 34
        }
      },
      "source": [
        "len(input_tensor_val)"
      ],
      "execution_count": 33,
      "outputs": [
        {
          "output_type": "execute_result",
          "data": {
            "text/plain": [
              "1908"
            ]
          },
          "metadata": {
            "tags": []
          },
          "execution_count": 33
        }
      ]
    },
    {
      "cell_type": "code",
      "metadata": {
        "id": "BFxzn930dDNs",
        "colab_type": "code",
        "colab": {}
      },
      "source": [
        "BUFFER_SIZE = len(input_tensor_train)\n",
        "BATCH_SIZE = 64\n",
        "steps_per_epoch = len(input_tensor_train)//BATCH_SIZE\n",
        "dataset = tf.data.Dataset.from_tensor_slices((input_tensor_train, target_tensor_train)).shuffle(BUFFER_SIZE)\n",
        "dataset = dataset.batch(BATCH_SIZE, drop_remainder=True)\n",
        "num_layers = 4\n",
        "d_model = 128\n",
        "dff = 512\n",
        "num_heads = 8\n",
        "input_vocab_size = len(inp_lang_tokenizer.word_index)+3\n",
        "target_vocab_size = len(targ_lang_tokenizer.word_index)+3\n",
        "dropout_rate = 0.0"
      ],
      "execution_count": 0,
      "outputs": []
    },
    {
      "cell_type": "code",
      "metadata": {
        "id": "6BnLEanaeNOX",
        "colab_type": "code",
        "outputId": "235db5cc-3c02-470f-a001-bb66ce5c0f46",
        "colab": {
          "base_uri": "https://localhost:8080/",
          "height": 34
        }
      },
      "source": [
        "example_input_batch, example_target_batch = next(iter(dataset))\n",
        "example_input_batch.shape, example_target_batch.shape"
      ],
      "execution_count": 35,
      "outputs": [
        {
          "output_type": "execute_result",
          "data": {
            "text/plain": [
              "(TensorShape([64, 124]), TensorShape([64, 66]))"
            ]
          },
          "metadata": {
            "tags": []
          },
          "execution_count": 35
        }
      ]
    },
    {
      "cell_type": "markdown",
      "metadata": {
        "id": "lLihV1nlcqH8",
        "colab_type": "text"
      },
      "source": [
        "### Transformer Model"
      ]
    },
    {
      "cell_type": "markdown",
      "metadata": {
        "id": "nRxTAfRkdRh5",
        "colab_type": "text"
      },
      "source": [
        "#### Positional Encoding"
      ]
    },
    {
      "cell_type": "code",
      "metadata": {
        "id": "PqjLcutlcubG",
        "colab_type": "code",
        "colab": {}
      },
      "source": [
        "# We provide positional information about the data to the model,\n",
        "# otherwise each sentence will be treated as Bag of Words\n",
        "def get_angles(pos, i, d_model):\n",
        "  angle_rates = 1 / np.power(10000, (2 * (i//2)) / np.float32(d_model))\n",
        "  return pos * angle_rates"
      ],
      "execution_count": 0,
      "outputs": []
    },
    {
      "cell_type": "code",
      "metadata": {
        "id": "B4LBjCfbd36x",
        "colab_type": "code",
        "colab": {}
      },
      "source": [
        "def positional_encoding(position, d_model):\n",
        "  angle_rads = get_angles(np.arange(position)[:, np.newaxis],\n",
        "                          np.arange(d_model)[np.newaxis, :],\n",
        "                          d_model)\n",
        "  \n",
        "  # apply sin to even indices in the array; 2i\n",
        "  angle_rads[:, 0::2] = np.sin(angle_rads[:, 0::2])\n",
        "  \n",
        "  # apply cos to odd indices in the array; 2i+1\n",
        "  angle_rads[:, 1::2] = np.cos(angle_rads[:, 1::2])\n",
        "    \n",
        "  pos_encoding = angle_rads[np.newaxis, ...]\n",
        "    \n",
        "  return tf.cast(pos_encoding, dtype=tf.float32)"
      ],
      "execution_count": 0,
      "outputs": []
    },
    {
      "cell_type": "markdown",
      "metadata": {
        "id": "i0ARP8oYeGpb",
        "colab_type": "text"
      },
      "source": [
        "#### Masking"
      ]
    },
    {
      "cell_type": "code",
      "metadata": {
        "id": "XPU51VjMeIOp",
        "colab_type": "code",
        "colab": {}
      },
      "source": [
        "# mask all elements are that not words (padding) so that it is not treated as input\n",
        "def create_padding_mask(seq):\n",
        "  seq = tf.cast(tf.math.equal(seq, 0), tf.float32)\n",
        "  \n",
        "  # add extra dimensions to add the padding\n",
        "  # to the attention logits.\n",
        "  return seq[:, tf.newaxis, tf.newaxis, :]  # (batch_size, 1, 1, seq_len)"
      ],
      "execution_count": 0,
      "outputs": []
    },
    {
      "cell_type": "code",
      "metadata": {
        "id": "NLLyLy3_eS69",
        "colab_type": "code",
        "colab": {}
      },
      "source": [
        "def create_look_ahead_mask(size):\n",
        "  mask = 1 - tf.linalg.band_part(tf.ones((size, size)), -1, 0)\n",
        "  return mask"
      ],
      "execution_count": 0,
      "outputs": []
    },
    {
      "cell_type": "code",
      "metadata": {
        "id": "NsFCUWbNz-jo",
        "colab_type": "code",
        "colab": {}
      },
      "source": [
        "dataset = dataset.prefetch(tf.data.experimental.AUTOTUNE)"
      ],
      "execution_count": 0,
      "outputs": []
    },
    {
      "cell_type": "markdown",
      "metadata": {
        "id": "fVbSOYuyeaPm",
        "colab_type": "text"
      },
      "source": [
        "\n",
        "#### Attention"
      ]
    },
    {
      "cell_type": "code",
      "metadata": {
        "id": "jW-49jyBeZy0",
        "colab_type": "code",
        "colab": {}
      },
      "source": [
        "def scaled_dot_product_attention(q, k, v, mask):\n",
        "  matmul_qk = tf.matmul(q, k, transpose_b=True)  # (..., seq_len_q, seq_len_k)\n",
        "  \n",
        "  # scale matmul_qk\n",
        "  dk = tf.cast(tf.shape(k)[-1], tf.float32)\n",
        "  scaled_attention_logits = matmul_qk / tf.math.sqrt(dk)\n",
        "\n",
        "  # add the mask to the scaled tensor.\n",
        "  if mask is not None:\n",
        "    scaled_attention_logits += (mask * -1e9)  \n",
        "\n",
        "  # softmax is normalized on the last axis (seq_len_k) so that the scores\n",
        "  # add up to 1.\n",
        "  attention_weights = tf.nn.softmax(scaled_attention_logits, axis=-1)  # (..., seq_len_q, seq_len_k)\n",
        "\n",
        "  output = tf.matmul(attention_weights, v)  # (..., seq_len_q, depth_v)\n",
        "\n",
        "  return output, attention_weights"
      ],
      "execution_count": 0,
      "outputs": []
    },
    {
      "cell_type": "code",
      "metadata": {
        "id": "VhCANAddefdq",
        "colab_type": "code",
        "colab": {}
      },
      "source": [
        "class MultiHeadAttention(tf.keras.layers.Layer):\n",
        "  def __init__(self, d_model, num_heads):\n",
        "    super(MultiHeadAttention, self).__init__()\n",
        "    self.num_heads = num_heads\n",
        "    self.d_model = d_model\n",
        "    \n",
        "    assert d_model % self.num_heads == 0\n",
        "    \n",
        "    self.depth = d_model // self.num_heads\n",
        "    \n",
        "    self.wq = tf.keras.layers.Dense(d_model)\n",
        "    self.wk = tf.keras.layers.Dense(d_model)\n",
        "    self.wv = tf.keras.layers.Dense(d_model)\n",
        "    \n",
        "    self.dense = tf.keras.layers.Dense(d_model)\n",
        "        \n",
        "  def split_heads(self, x, batch_size):\n",
        "    \"\"\"Split the last dimension into (num_heads, depth).\n",
        "    Transpose the result such that the shape is (batch_size, num_heads, seq_len, depth)\n",
        "    \"\"\"\n",
        "    x = tf.reshape(x, (batch_size, -1, self.num_heads, self.depth))\n",
        "    return tf.transpose(x, perm=[0, 2, 1, 3])\n",
        "    \n",
        "  def call(self, v, k, q, mask):\n",
        "    batch_size = tf.shape(q)[0]\n",
        "    \n",
        "    q = self.wq(q)  # (batch_size, seq_len, d_model)\n",
        "    k = self.wk(k)  # (batch_size, seq_len, d_model)\n",
        "    v = self.wv(v)  # (batch_size, seq_len, d_model)\n",
        "    \n",
        "    q = self.split_heads(q, batch_size)  # (batch_size, num_heads, seq_len_q, depth)\n",
        "    k = self.split_heads(k, batch_size)  # (batch_size, num_heads, seq_len_k, depth)\n",
        "    v = self.split_heads(v, batch_size)  # (batch_size, num_heads, seq_len_v, depth)\n",
        "    \n",
        "    # scaled_attention.shape == (batch_size, num_heads, seq_len_q, depth)\n",
        "    # attention_weights.shape == (batch_size, num_heads, seq_len_q, seq_len_k)\n",
        "    scaled_attention, attention_weights = scaled_dot_product_attention(\n",
        "        q, k, v, mask)\n",
        "    \n",
        "    scaled_attention = tf.transpose(scaled_attention, perm=[0, 2, 1, 3])  # (batch_size, seq_len_q, num_heads, depth)\n",
        "\n",
        "    concat_attention = tf.reshape(scaled_attention, \n",
        "                                  (batch_size, -1, self.d_model))  # (batch_size, seq_len_q, d_model)\n",
        "\n",
        "    output = self.dense(concat_attention)  # (batch_size, seq_len_q, d_model)\n",
        "        \n",
        "    return output, attention_weights"
      ],
      "execution_count": 0,
      "outputs": []
    },
    {
      "cell_type": "markdown",
      "metadata": {
        "id": "gq-Kw2rLgpme",
        "colab_type": "text"
      },
      "source": [
        "#### Pointwise Feed forward network"
      ]
    },
    {
      "cell_type": "code",
      "metadata": {
        "id": "9mNE0fJvefaO",
        "colab_type": "code",
        "colab": {}
      },
      "source": [
        "def point_wise_feed_forward_network(d_model, dff):\n",
        "  return tf.keras.Sequential([\n",
        "      tf.keras.layers.Dense(dff, activation='relu'),  # (batch_size, seq_len, dff)\n",
        "      tf.keras.layers.Dense(d_model)  # (batch_size, seq_len, d_model)\n",
        "  ])"
      ],
      "execution_count": 0,
      "outputs": []
    },
    {
      "cell_type": "markdown",
      "metadata": {
        "id": "EgfEMiove1Zn",
        "colab_type": "text"
      },
      "source": [
        "#### Encoder Layer"
      ]
    },
    {
      "cell_type": "code",
      "metadata": {
        "id": "_qQc6o64eySC",
        "colab_type": "code",
        "colab": {}
      },
      "source": [
        "class EncoderLayer(tf.keras.layers.Layer):\n",
        "  def __init__(self, d_model, num_heads, dff, rate=0.1):\n",
        "    super(EncoderLayer, self).__init__()\n",
        "\n",
        "    self.mha = MultiHeadAttention(d_model, num_heads)\n",
        "    self.ffn = point_wise_feed_forward_network(d_model, dff)\n",
        "\n",
        "    # normalize data per feature instead of batch\n",
        "    self.layernorm1 = tf.keras.layers.LayerNormalization(epsilon=1e-6)\n",
        "    self.layernorm2 = tf.keras.layers.LayerNormalization(epsilon=1e-6)\n",
        "    \n",
        "    self.dropout1 = tf.keras.layers.Dropout(rate)\n",
        "    self.dropout2 = tf.keras.layers.Dropout(rate)\n",
        "    \n",
        "  def call(self, x, training, mask):\n",
        "    # Multi-head attention layer\n",
        "    attn_output, _ = self.mha(x, x, x, mask) \n",
        "    attn_output = self.dropout1(attn_output, training=training)\n",
        "    # add residual connection to avoid vanishing gradient problem\n",
        "    out1 = self.layernorm1(x + attn_output)\n",
        "    \n",
        "    # Feedforward layer\n",
        "    ffn_output = self.ffn(out1)\n",
        "    ffn_output = self.dropout2(ffn_output, training=training)\n",
        "    # add residual connection to avoid vanishing gradient problem\n",
        "    out2 = self.layernorm2(out1 + ffn_output)\n",
        "    return out2"
      ],
      "execution_count": 0,
      "outputs": []
    },
    {
      "cell_type": "markdown",
      "metadata": {
        "id": "eqLdtAAPorvt",
        "colab_type": "text"
      },
      "source": [
        "#### Encoder"
      ]
    },
    {
      "cell_type": "code",
      "metadata": {
        "id": "2WsCLoYEfC1L",
        "colab_type": "code",
        "colab": {}
      },
      "source": [
        "class Encoder(tf.keras.layers.Layer):\n",
        "  def __init__(self, num_layers, d_model, num_heads, dff, input_vocab_size,\n",
        "               maximum_position_encoding, rate=0.1):\n",
        "    super(Encoder, self).__init__()\n",
        "\n",
        "    self.d_model = d_model\n",
        "    self.num_layers = num_layers\n",
        "    \n",
        "    self.embedding = tf.keras.layers.Embedding(input_vocab_size, d_model)\n",
        "    self.pos_encoding = positional_encoding(maximum_position_encoding, \n",
        "                                            self.d_model)\n",
        "    \n",
        "    # Create encoder layers (count: num_layers)\n",
        "    self.enc_layers = [EncoderLayer(d_model, num_heads, dff, rate) \n",
        "                       for _ in range(num_layers)]\n",
        "  \n",
        "    self.dropout = tf.keras.layers.Dropout(rate)\n",
        "        \n",
        "  def call(self, x, training, mask):\n",
        "\n",
        "    seq_len = tf.shape(x)[1]\n",
        "\n",
        "    # adding embedding and position encoding.\n",
        "    x = self.embedding(x)  \n",
        "    x *= tf.math.sqrt(tf.cast(self.d_model, tf.float32))\n",
        "    x += self.pos_encoding[:, :seq_len, :]\n",
        "\n",
        "    x = self.dropout(x, training=training)\n",
        "    \n",
        "    for i in range(self.num_layers):\n",
        "      x = self.enc_layers[i](x, training, mask)\n",
        "    \n",
        "    return x "
      ],
      "execution_count": 0,
      "outputs": []
    },
    {
      "cell_type": "markdown",
      "metadata": {
        "id": "R6bSvwJ1e_g8",
        "colab_type": "text"
      },
      "source": [
        "#### Decoder Layer"
      ]
    },
    {
      "cell_type": "code",
      "metadata": {
        "id": "YQgt7OcdeyKr",
        "colab_type": "code",
        "colab": {}
      },
      "source": [
        "class DecoderLayer(tf.keras.layers.Layer):\n",
        "  def __init__(self, d_model, num_heads, dff, rate=0.1):\n",
        "    super(DecoderLayer, self).__init__()\n",
        "\n",
        "    self.mha1 = MultiHeadAttention(d_model, num_heads)\n",
        "    self.mha2 = MultiHeadAttention(d_model, num_heads)\n",
        "\n",
        "    self.ffn = point_wise_feed_forward_network(d_model, dff)\n",
        " \n",
        "    self.layernorm1 = tf.keras.layers.LayerNormalization(epsilon=1e-6)\n",
        "    self.layernorm2 = tf.keras.layers.LayerNormalization(epsilon=1e-6)\n",
        "    self.layernorm3 = tf.keras.layers.LayerNormalization(epsilon=1e-6)\n",
        "    \n",
        "    self.dropout1 = tf.keras.layers.Dropout(rate)\n",
        "    self.dropout2 = tf.keras.layers.Dropout(rate)\n",
        "    self.dropout3 = tf.keras.layers.Dropout(rate)\n",
        "    \n",
        "    \n",
        "  def call(self, x, enc_output, training, \n",
        "           look_ahead_mask, padding_mask):\n",
        "\n",
        "    # Masked multihead attention layer (padding + look-ahead)\n",
        "    attn1, attn_weights_block1 = self.mha1(x, x, x, look_ahead_mask)\n",
        "    attn1 = self.dropout1(attn1, training=training)\n",
        "    # again add residual connection\n",
        "    out1 = self.layernorm1(attn1 + x)\n",
        "    \n",
        "    # Masked multihead attention layer (only padding)\n",
        "    # with input from encoder as Key and Value, and input from previous layer as Query\n",
        "    attn2, attn_weights_block2 = self.mha2(\n",
        "        enc_output, enc_output, out1, padding_mask)\n",
        "    attn2 = self.dropout2(attn2, training=training)\n",
        "    # again add residual connection\n",
        "    out2 = self.layernorm2(attn2 + out1)\n",
        "    \n",
        "    # Feedforward layer\n",
        "    ffn_output = self.ffn(out2)\n",
        "    ffn_output = self.dropout3(ffn_output, training=training)\n",
        "    # again add residual connection\n",
        "    out3 = self.layernorm3(ffn_output + out2)\n",
        "    return out3, attn_weights_block1, attn_weights_block2"
      ],
      "execution_count": 0,
      "outputs": []
    },
    {
      "cell_type": "markdown",
      "metadata": {
        "id": "lxvJ4M-pouYH",
        "colab_type": "text"
      },
      "source": [
        "#### Decoder"
      ]
    },
    {
      "cell_type": "code",
      "metadata": {
        "id": "W8M_UsFHfCtH",
        "colab_type": "code",
        "colab": {}
      },
      "source": [
        "class Decoder(tf.keras.layers.Layer):\n",
        "  def __init__(self, num_layers, d_model, num_heads, dff, target_vocab_size,\n",
        "               maximum_position_encoding, rate=0.1):\n",
        "    super(Decoder, self).__init__()\n",
        "\n",
        "    self.d_model = d_model\n",
        "    self.num_layers = num_layers\n",
        "     \n",
        "    self.embedding = tf.keras.layers.Embedding(target_vocab_size, d_model)\n",
        "    self.pos_encoding = positional_encoding(maximum_position_encoding, d_model)\n",
        "    \n",
        "    # Create decoder layers (count: num_layers)\n",
        "    self.dec_layers = [DecoderLayer(d_model, num_heads, dff, rate) \n",
        "                       for _ in range(num_layers)]\n",
        "    self.dropout = tf.keras.layers.Dropout(rate)\n",
        "    \n",
        "  def call(self, x, enc_output, training, \n",
        "           look_ahead_mask, padding_mask):\n",
        "\n",
        "    seq_len = tf.shape(x)[1]\n",
        "    attention_weights = {}\n",
        "    \n",
        "    x = self.embedding(x)  # (batch_size, target_seq_len, d_model)\n",
        "    \n",
        "    x *= tf.math.sqrt(tf.cast(self.d_model, tf.float32))\n",
        "    \n",
        "    x += self.pos_encoding[:,:seq_len,:]\n",
        "    \n",
        "    x = self.dropout(x, training=training)\n",
        "\n",
        "    for i in range(self.num_layers):\n",
        "      x, block1, block2 = self.dec_layers[i](x, enc_output, training,\n",
        "                                             look_ahead_mask, padding_mask)\n",
        "      \n",
        "      # store attenion weights, they can be used to visualize while translating\n",
        "      attention_weights['decoder_layer{}_block1'.format(i+1)] = block1\n",
        "      attention_weights['decoder_layer{}_block2'.format(i+1)] = block2\n",
        "    \n",
        "    return x, attention_weights"
      ],
      "execution_count": 0,
      "outputs": []
    },
    {
      "cell_type": "markdown",
      "metadata": {
        "id": "_wlWv0HSptaN",
        "colab_type": "text"
      },
      "source": [
        "#### Transformer"
      ]
    },
    {
      "cell_type": "code",
      "metadata": {
        "id": "t3ldNVklfaMY",
        "colab_type": "code",
        "colab": {}
      },
      "source": [
        "class Transformer(tf.keras.Model):\n",
        "  def __init__(self, num_layers, d_model, num_heads, dff, input_vocab_size, \n",
        "               target_vocab_size, pe_input, pe_target, rate=0.1):\n",
        "    super(Transformer, self).__init__()\n",
        "\n",
        "    self.encoder = Encoder(num_layers, d_model, num_heads, dff, \n",
        "                           input_vocab_size, pe_input, rate)\n",
        "\n",
        "    self.decoder = Decoder(num_layers, d_model, num_heads, dff, \n",
        "                           target_vocab_size, pe_target, rate)\n",
        "\n",
        "    self.final_layer = tf.keras.layers.Dense(target_vocab_size)\n",
        "    \n",
        "  def call(self, inp, tar, training, enc_padding_mask, \n",
        "           look_ahead_mask, dec_padding_mask):\n",
        "\n",
        "    # Pass the input to the encoder\n",
        "    enc_output = self.encoder(inp, training, enc_padding_mask)\n",
        "    \n",
        "    # Pass the encoder output to the decoder\n",
        "    dec_output, attention_weights = self.decoder(\n",
        "        tar, enc_output, training, look_ahead_mask, dec_padding_mask)\n",
        "    \n",
        "    # Pass the decoder output to the last linear layer\n",
        "    final_output = self.final_layer(dec_output)\n",
        "    \n",
        "    return final_output, attention_weights"
      ],
      "execution_count": 0,
      "outputs": []
    },
    {
      "cell_type": "markdown",
      "metadata": {
        "id": "QLT6USM-htw3",
        "colab_type": "text"
      },
      "source": [
        "#### Optimizer and Loss"
      ]
    },
    {
      "cell_type": "code",
      "metadata": {
        "id": "588zG6wOfaGd",
        "colab_type": "code",
        "colab": {}
      },
      "source": [
        "class CustomSchedule(tf.keras.optimizers.schedules.LearningRateSchedule):\n",
        "  def __init__(self, d_model, warmup_steps=4000):\n",
        "    super(CustomSchedule, self).__init__()\n",
        "    \n",
        "    self.d_model = d_model\n",
        "    self.d_model = tf.cast(self.d_model, tf.float32)\n",
        "\n",
        "    self.warmup_steps = warmup_steps\n",
        "    \n",
        "  def __call__(self, step):\n",
        "    arg1 = tf.math.rsqrt(step)\n",
        "    arg2 = step * (self.warmup_steps ** -1.5)\n",
        "    \n",
        "    return tf.math.rsqrt(self.d_model) * tf.math.minimum(arg1, arg2)"
      ],
      "execution_count": 0,
      "outputs": []
    },
    {
      "cell_type": "code",
      "metadata": {
        "id": "ZfEAPe3FfZ-8",
        "colab_type": "code",
        "colab": {}
      },
      "source": [
        "learning_rate = CustomSchedule(d_model)\n",
        "\n",
        "# Adam optimizer with a custom learning rate\n",
        "optimizer = tf.keras.optimizers.Adam(learning_rate, beta_1=0.9, beta_2=0.98, \n",
        "                                     epsilon=1e-9)"
      ],
      "execution_count": 0,
      "outputs": []
    },
    {
      "cell_type": "code",
      "metadata": {
        "id": "Ree_sJLFfZfm",
        "colab_type": "code",
        "colab": {}
      },
      "source": [
        "loss_object = tf.keras.losses.SparseCategoricalCrossentropy(\n",
        "    from_logits=True, reduction='none')"
      ],
      "execution_count": 0,
      "outputs": []
    },
    {
      "cell_type": "code",
      "metadata": {
        "id": "il10DQXPefP-",
        "colab_type": "code",
        "colab": {}
      },
      "source": [
        "def loss_function(real, pred):\n",
        "  # Apply a mask to paddings (0)\n",
        "  mask = tf.math.logical_not(tf.math.equal(real, 0))\n",
        "  loss_ = loss_object(real, pred)\n",
        "\n",
        "  mask = tf.cast(mask, dtype=loss_.dtype)\n",
        "  loss_ *= mask\n",
        "  \n",
        "  return tf.reduce_mean(loss_)"
      ],
      "execution_count": 0,
      "outputs": []
    },
    {
      "cell_type": "code",
      "metadata": {
        "id": "EzVTb8RmefDd",
        "colab_type": "code",
        "colab": {}
      },
      "source": [
        "train_loss = tf.keras.metrics.Mean(name='train_loss')\n",
        "train_accuracy = tf.keras.metrics.SparseCategoricalAccuracy(\n",
        "    name='train_accuracy')"
      ],
      "execution_count": 0,
      "outputs": []
    },
    {
      "cell_type": "code",
      "metadata": {
        "id": "e6QXJV9rh8nc",
        "colab_type": "code",
        "colab": {}
      },
      "source": [
        "transformer = Transformer(num_layers, d_model, num_heads, dff,\n",
        "                          input_vocab_size, target_vocab_size, \n",
        "                          pe_input=input_vocab_size, \n",
        "                          pe_target=target_vocab_size,\n",
        "                          rate=dropout_rate)"
      ],
      "execution_count": 0,
      "outputs": []
    },
    {
      "cell_type": "code",
      "metadata": {
        "id": "mnNv_E9Wh8jl",
        "colab_type": "code",
        "colab": {}
      },
      "source": [
        "def create_masks(inp, tar):\n",
        "  # Encoder padding mask\n",
        "  enc_padding_mask = create_padding_mask(inp)\n",
        "  \n",
        "  # Decoder padding mask\n",
        "  dec_padding_mask = create_padding_mask(inp)\n",
        "  \n",
        "  # Look ahead mask (for hiding the rest of the sequence in the 1st decoder attention layer)\n",
        "  look_ahead_mask = create_look_ahead_mask(tf.shape(tar)[1])\n",
        "  dec_target_padding_mask = create_padding_mask(tar)\n",
        "  combined_mask = tf.maximum(dec_target_padding_mask, look_ahead_mask)\n",
        "  \n",
        "  return enc_padding_mask, combined_mask, dec_padding_mask"
      ],
      "execution_count": 0,
      "outputs": []
    },
    {
      "cell_type": "markdown",
      "metadata": {
        "colab_type": "text",
        "id": "n7etu6ariHqK"
      },
      "source": [
        "### Checkpoints"
      ]
    },
    {
      "cell_type": "code",
      "metadata": {
        "colab_type": "code",
        "id": "UkZOgiXPiHqM",
        "colab": {}
      },
      "source": [
        "# !rm -r /gdrive/My\\ Drive/ADL\\ Project/checkpoints/training_checkpoints/akshata_transfomer"
      ],
      "execution_count": 0,
      "outputs": []
    },
    {
      "cell_type": "code",
      "metadata": {
        "colab_type": "code",
        "outputId": "6afb3304-2e1e-4d55-ad9d-756b45788610",
        "id": "72OsBxu6iHqO",
        "colab": {
          "base_uri": "https://localhost:8080/",
          "height": 51
        }
      },
      "source": [
        "checkpoint_dir = os.path.join(drive_root, \"ADL Project/checkpoints\")\n",
        "checkpoint_dir = os.path.join(checkpoint_dir, \"training_checkpoints/akshata_transfomer\")\n",
        "\n",
        "print(\"Checkpoints directory is\", checkpoint_dir)\n",
        "if os.path.exists(checkpoint_dir):\n",
        "  print(\"Checkpoints folder already exists\")\n",
        "else:\n",
        "  print(\"Creating a checkpoints directory\")\n",
        "  os.makedirs(checkpoint_dir)\n",
        "\n",
        "\n",
        "checkpoint = tf.train.Checkpoint(transformer=transformer,\n",
        "                           optimizer=optimizer)\n",
        "\n",
        "ckpt_manager = tf.train.CheckpointManager(checkpoint, checkpoint_dir, max_to_keep=5)"
      ],
      "execution_count": 57,
      "outputs": [
        {
          "output_type": "stream",
          "text": [
            "Checkpoints directory is /gdrive/My Drive/ADL Project/checkpoints/training_checkpoints/akshata_transfomer\n",
            "Checkpoints folder already exists\n"
          ],
          "name": "stdout"
        }
      ]
    },
    {
      "cell_type": "code",
      "metadata": {
        "colab_type": "code",
        "id": "kbxp9qB_iHqS",
        "outputId": "6fb69c8c-e933-42ca-8918-d4e880df9bdb",
        "colab": {
          "base_uri": "https://localhost:8080/",
          "height": 34
        }
      },
      "source": [
        "latest = ckpt_manager.latest_checkpoint\n",
        "latest"
      ],
      "execution_count": 58,
      "outputs": [
        {
          "output_type": "execute_result",
          "data": {
            "text/plain": [
              "'/gdrive/My Drive/ADL Project/checkpoints/training_checkpoints/akshata_transfomer/ckpt-5'"
            ]
          },
          "metadata": {
            "tags": []
          },
          "execution_count": 58
        }
      ]
    },
    {
      "cell_type": "code",
      "metadata": {
        "colab_type": "code",
        "id": "ekNEXzDJiHqW",
        "outputId": "a9b5b22e-de6f-486c-cdb0-c8dd82e9de3b",
        "colab": {
          "base_uri": "https://localhost:8080/",
          "height": 34
        }
      },
      "source": [
        "if latest:\n",
        "  epoch_num = int(latest.split('/')[-1].split('-')[-1])\n",
        "  checkpoint.restore(latest)\n",
        "  print ('Latest checkpoint restored!!')\n",
        "else:\n",
        "  epoch_num = 0"
      ],
      "execution_count": 59,
      "outputs": [
        {
          "output_type": "stream",
          "text": [
            "Latest checkpoint restored!!\n"
          ],
          "name": "stdout"
        }
      ]
    },
    {
      "cell_type": "code",
      "metadata": {
        "colab_type": "code",
        "outputId": "04b03be6-8d32-4ec1-d957-56b175823b69",
        "id": "leaHQMBaiHqX",
        "colab": {
          "base_uri": "https://localhost:8080/",
          "height": 34
        }
      },
      "source": [
        "epoch_num"
      ],
      "execution_count": 60,
      "outputs": [
        {
          "output_type": "execute_result",
          "data": {
            "text/plain": [
              "5"
            ]
          },
          "metadata": {
            "tags": []
          },
          "execution_count": 60
        }
      ]
    },
    {
      "cell_type": "markdown",
      "metadata": {
        "id": "Jj0D4HuIatpn",
        "colab_type": "text"
      },
      "source": [
        "#### Training"
      ]
    },
    {
      "cell_type": "code",
      "metadata": {
        "id": "aOcltIu0h8cr",
        "colab_type": "code",
        "colab": {}
      },
      "source": [
        "EPOCHS = 5\n",
        "\n",
        "def train_step(inp, tar):\n",
        "  tar_inp = tar[:, :-1]\n",
        "  tar_real = tar[:, 1:]\n",
        "  \n",
        "  enc_padding_mask, combined_mask, dec_padding_mask = create_masks(inp, tar_inp)\n",
        "  \n",
        "  with tf.GradientTape() as tape:\n",
        "    predictions, _ = transformer(inp, tar_inp, \n",
        "                                 True, \n",
        "                                 enc_padding_mask, \n",
        "                                 combined_mask, \n",
        "                                 dec_padding_mask)\n",
        "    loss = loss_function(tar_real, predictions)\n",
        "\n",
        "  gradients = tape.gradient(loss, transformer.trainable_variables)    \n",
        "  optimizer.apply_gradients(zip(gradients, transformer.trainable_variables))\n",
        "  \n",
        "  train_loss(loss)\n",
        "  train_accuracy(tar_real, predictions)"
      ],
      "execution_count": 0,
      "outputs": []
    },
    {
      "cell_type": "code",
      "metadata": {
        "id": "lEqQmYLZh8R3",
        "colab_type": "code",
        "outputId": "068cde0c-413b-4fcb-bf68-ebe574f93714",
        "colab": {
          "base_uri": "https://localhost:8080/",
          "height": 1000
        }
      },
      "source": [
        "for epoch in range(epoch_num, EPOCHS):\n",
        "  start = time.time()\n",
        "  \n",
        "  train_loss.reset_states()\n",
        "  train_accuracy.reset_states()\n",
        "  \n",
        "  # inp -> question, tar -> equation\n",
        "  for (batch, (inp, tar)) in enumerate(dataset):\n",
        "    train_step(inp, tar)\n",
        "    \n",
        "    if batch % 50 == 0:\n",
        "      print ('Epoch {} Batch {} Loss {:.4f} Accuracy {:.4f}'.format(\n",
        "          epoch + 1, batch, train_loss.result(), train_accuracy.result()))\n",
        "      \n",
        "  ckpt_save_path = ckpt_manager.save()\n",
        "  print ('Saving checkpoint for epoch {} at {}'.format(epoch+1,\n",
        "                                                         ckpt_save_path))\n",
        "    \n",
        "  print ('Epoch {} Loss {:.4f} Accuracy {:.4f}'.format(epoch + 1, \n",
        "                                                train_loss.result(), \n",
        "                                                train_accuracy.result()))\n",
        "\n",
        "  print ('Time taken for 1 epoch: {} secs\\n'.format(time.time() - start))"
      ],
      "execution_count": 76,
      "outputs": [
        {
          "output_type": "stream",
          "text": [
            "Epoch 1 Batch 0 Loss 0.6589 Accuracy 0.0000\n",
            "Epoch 1 Batch 50 Loss 0.5693 Accuracy 0.0073\n",
            "Epoch 1 Batch 100 Loss 0.4852 Accuracy 0.0198\n",
            "Epoch 1 Batch 150 Loss 0.4190 Accuracy 0.0327\n",
            "Epoch 1 Batch 200 Loss 0.3691 Accuracy 0.0422\n",
            "Epoch 1 Batch 250 Loss 0.3306 Accuracy 0.0499\n",
            "Epoch 1 Batch 300 Loss 0.3014 Accuracy 0.0562\n",
            "Epoch 1 Batch 350 Loss 0.2765 Accuracy 0.0617\n",
            "Epoch 1 Batch 400 Loss 0.2549 Accuracy 0.0666\n",
            "Epoch 1 Batch 450 Loss 0.2365 Accuracy 0.0708\n",
            "Epoch 1 Batch 500 Loss 0.2212 Accuracy 0.0742\n",
            "Epoch 1 Batch 550 Loss 0.2082 Accuracy 0.0773\n",
            "Saving checkpoint for epoch 1 at /gdrive/My Drive/ADL Project/checkpoints/training_checkpoints/akshata_transfomer/ckpt-1\n",
            "Epoch 1 Loss 0.2045 Accuracy 0.0781\n",
            "Time taken for 1 epoch: 163.88712668418884 secs\n",
            "\n",
            "Epoch 2 Batch 0 Loss 0.0634 Accuracy 0.1147\n",
            "Epoch 2 Batch 50 Loss 0.0676 Accuracy 0.1096\n",
            "Epoch 2 Batch 100 Loss 0.0662 Accuracy 0.1109\n",
            "Epoch 2 Batch 150 Loss 0.0644 Accuracy 0.1111\n",
            "Epoch 2 Batch 200 Loss 0.0622 Accuracy 0.1120\n",
            "Epoch 2 Batch 250 Loss 0.0606 Accuracy 0.1123\n",
            "Epoch 2 Batch 300 Loss 0.0584 Accuracy 0.1130\n",
            "Epoch 2 Batch 350 Loss 0.0560 Accuracy 0.1138\n",
            "Epoch 2 Batch 400 Loss 0.0547 Accuracy 0.1143\n",
            "Epoch 2 Batch 450 Loss 0.0529 Accuracy 0.1150\n",
            "Epoch 2 Batch 500 Loss 0.0510 Accuracy 0.1156\n",
            "Epoch 2 Batch 550 Loss 0.0500 Accuracy 0.1161\n",
            "Saving checkpoint for epoch 2 at /gdrive/My Drive/ADL Project/checkpoints/training_checkpoints/akshata_transfomer/ckpt-2\n",
            "Epoch 2 Loss 0.0496 Accuracy 0.1163\n",
            "Time taken for 1 epoch: 162.7667520046234 secs\n",
            "\n",
            "Epoch 3 Batch 0 Loss 0.0135 Accuracy 0.1226\n",
            "Epoch 3 Batch 50 Loss 0.0293 Accuracy 0.1236\n",
            "Epoch 3 Batch 100 Loss 0.0274 Accuracy 0.1243\n",
            "Epoch 3 Batch 150 Loss 0.0267 Accuracy 0.1249\n",
            "Epoch 3 Batch 200 Loss 0.0252 Accuracy 0.1255\n",
            "Epoch 3 Batch 250 Loss 0.0240 Accuracy 0.1258\n",
            "Epoch 3 Batch 300 Loss 0.0233 Accuracy 0.1260\n",
            "Epoch 3 Batch 350 Loss 0.0225 Accuracy 0.1261\n",
            "Epoch 3 Batch 400 Loss 0.0223 Accuracy 0.1263\n",
            "Epoch 3 Batch 450 Loss 0.0220 Accuracy 0.1263\n",
            "Epoch 3 Batch 500 Loss 0.0214 Accuracy 0.1265\n",
            "Epoch 3 Batch 550 Loss 0.0208 Accuracy 0.1266\n",
            "Saving checkpoint for epoch 3 at /gdrive/My Drive/ADL Project/checkpoints/training_checkpoints/akshata_transfomer/ckpt-3\n",
            "Epoch 3 Loss 0.0208 Accuracy 0.1267\n",
            "Time taken for 1 epoch: 163.57762098312378 secs\n",
            "\n",
            "Epoch 4 Batch 0 Loss 0.0191 Accuracy 0.1243\n",
            "Epoch 4 Batch 50 Loss 0.0164 Accuracy 0.1290\n",
            "Epoch 4 Batch 100 Loss 0.0173 Accuracy 0.1282\n",
            "Epoch 4 Batch 150 Loss 0.0161 Accuracy 0.1282\n",
            "Epoch 4 Batch 200 Loss 0.0161 Accuracy 0.1282\n",
            "Epoch 4 Batch 250 Loss 0.0163 Accuracy 0.1280\n",
            "Epoch 4 Batch 300 Loss 0.0159 Accuracy 0.1281\n",
            "Epoch 4 Batch 350 Loss 0.0163 Accuracy 0.1281\n",
            "Epoch 4 Batch 400 Loss 0.0166 Accuracy 0.1280\n",
            "Epoch 4 Batch 450 Loss 0.0164 Accuracy 0.1281\n",
            "Epoch 4 Batch 500 Loss 0.0164 Accuracy 0.1280\n",
            "Epoch 4 Batch 550 Loss 0.0161 Accuracy 0.1281\n",
            "Saving checkpoint for epoch 4 at /gdrive/My Drive/ADL Project/checkpoints/training_checkpoints/akshata_transfomer/ckpt-4\n",
            "Epoch 4 Loss 0.0161 Accuracy 0.1281\n",
            "Time taken for 1 epoch: 165.27334427833557 secs\n",
            "\n",
            "Epoch 5 Batch 0 Loss 0.0020 Accuracy 0.1260\n",
            "Epoch 5 Batch 50 Loss 0.0147 Accuracy 0.1283\n",
            "Epoch 5 Batch 100 Loss 0.0137 Accuracy 0.1281\n",
            "Epoch 5 Batch 150 Loss 0.0135 Accuracy 0.1283\n",
            "Epoch 5 Batch 200 Loss 0.0141 Accuracy 0.1281\n",
            "Epoch 5 Batch 250 Loss 0.0149 Accuracy 0.1284\n",
            "Epoch 5 Batch 300 Loss 0.0141 Accuracy 0.1284\n",
            "Epoch 5 Batch 350 Loss 0.0141 Accuracy 0.1284\n",
            "Epoch 5 Batch 400 Loss 0.0145 Accuracy 0.1285\n",
            "Epoch 5 Batch 450 Loss 0.0147 Accuracy 0.1286\n",
            "Epoch 5 Batch 500 Loss 0.0144 Accuracy 0.1285\n",
            "Epoch 5 Batch 550 Loss 0.0145 Accuracy 0.1285\n",
            "Saving checkpoint for epoch 5 at /gdrive/My Drive/ADL Project/checkpoints/training_checkpoints/akshata_transfomer/ckpt-5\n",
            "Epoch 5 Loss 0.0145 Accuracy 0.1286\n",
            "Time taken for 1 epoch: 164.3355269432068 secs\n",
            "\n"
          ],
          "name": "stdout"
        }
      ]
    },
    {
      "cell_type": "markdown",
      "metadata": {
        "id": "fpi8JaiblDOh",
        "colab_type": "text"
      },
      "source": [
        "### Evaluate"
      ]
    },
    {
      "cell_type": "code",
      "metadata": {
        "id": "Op5A3ikpil_l",
        "colab_type": "code",
        "colab": {}
      },
      "source": [
        "def evaluate(inp_sentence):\n",
        "  start_token = [len(inp_lang_tokenizer.word_index)+1]\n",
        "  end_token = [len(inp_lang_tokenizer.word_index)+2]\n",
        "  \n",
        "  # inp sentence is the word problem, hence adding the start and end token\n",
        "  inp_sentence = start_token + [inp_lang_tokenizer.word_index[i] for i in preprocess_input(inp_sentence).split(' ')]+end_token\n",
        "  encoder_input = tf.expand_dims(inp_sentence, 0)\n",
        "  \n",
        "  # start with equation's start token\n",
        "  decoder_input = [old_len+1]\n",
        "  output = tf.expand_dims(decoder_input, 0)\n",
        "    \n",
        "  for i in range(MAX_LENGTH):\n",
        "    enc_padding_mask, combined_mask, dec_padding_mask = create_masks(\n",
        "        encoder_input, output)\n",
        "  \n",
        "    predictions, attention_weights = transformer(encoder_input, \n",
        "                                                 output,\n",
        "                                                 False,\n",
        "                                                 enc_padding_mask,\n",
        "                                                 combined_mask,\n",
        "                                                 dec_padding_mask)\n",
        "    \n",
        "    # select the last word from the seq_len dimension\n",
        "    predictions = predictions[: ,-1:, :] \n",
        "    predicted_id = tf.cast(tf.argmax(predictions, axis=-1), tf.int32)\n",
        "    \n",
        "    # return the result if the predicted_id is equal to the end token\n",
        "    if predicted_id == old_len+2:\n",
        "      return tf.squeeze(output, axis=0), attention_weights\n",
        "    \n",
        "    # concatentate the predicted_id to the output which is given to the decoder\n",
        "    # as its input.\n",
        "    output = tf.concat([output, predicted_id], axis=-1)\n",
        "  return tf.squeeze(output, axis=0), attention_weights"
      ],
      "execution_count": 0,
      "outputs": []
    },
    {
      "cell_type": "code",
      "metadata": {
        "id": "myLyxXYpiltz",
        "colab_type": "code",
        "colab": {}
      },
      "source": [
        "def plot_attention_weights(attention, sentence, result, layer):\n",
        "  fig = plt.figure(figsize=(16, 8))\n",
        "  \n",
        "  sentence = preprocess_input(sentence)\n",
        "  \n",
        "  attention = tf.squeeze(attention[layer], axis=0)\n",
        "  \n",
        "  for head in range(attention.shape[0]):\n",
        "    ax = fig.add_subplot(2, 4, head+1)\n",
        "    \n",
        "    # plot the attention weights\n",
        "    ax.matshow(attention[head][:-1, :], cmap='viridis')\n",
        "    \n",
        "    fontdict = {'fontsize': 10}\n",
        "    \n",
        "    ax.set_xticks(range(len(sentence.split(' '))+2))\n",
        "    ax.set_yticks(range(len([targ_lang_tokenizer.index_word[i] for i in list(result.numpy()) \n",
        "                        if i < len(targ_lang_tokenizer.word_index) and i not in [0,old_len+1,old_len+2]])+3))\n",
        "    \n",
        "    \n",
        "    ax.set_ylim(len([targ_lang_tokenizer.index_word[i] for i in list(result.numpy()) \n",
        "                        if i < len(targ_lang_tokenizer.word_index) and i not in [0,old_len+1,old_len+2]]), -0.5)\n",
        "        \n",
        "    ax.set_xticklabels(\n",
        "        ['<start>']+sentence.split(' ')+['<end>'], \n",
        "        fontdict=fontdict, rotation=90)\n",
        "    \n",
        "    ax.set_yticklabels([targ_lang_tokenizer.index_word[i] for i in list(result.numpy()) \n",
        "                        if i < len(targ_lang_tokenizer.word_index) and i not in [0,old_len+1,old_len+2]], \n",
        "                       fontdict=fontdict)\n",
        "    \n",
        "    ax.set_xlabel('Head {}'.format(head+1))\n",
        "  \n",
        "  plt.tight_layout()\n",
        "  plt.show()"
      ],
      "execution_count": 0,
      "outputs": []
    },
    {
      "cell_type": "code",
      "metadata": {
        "id": "tiVDtj2FoNZr",
        "colab_type": "code",
        "colab": {}
      },
      "source": [
        "MAX_LENGTH = 40"
      ],
      "execution_count": 0,
      "outputs": []
    },
    {
      "cell_type": "code",
      "metadata": {
        "id": "joZ3POuph8NH",
        "colab_type": "code",
        "colab": {}
      },
      "source": [
        "def translate(sentence, plot=''):\n",
        "  result, attention_weights = evaluate(sentence)\n",
        "  # print('result',list(result.numpy()))\n",
        "\n",
        "  # use the result tokens to convert prediction into a list of characters\n",
        "  # (not inclusing padding, start and end tokens)\n",
        "  predicted_sentence = [targ_lang_tokenizer.index_word[i] for i in list(result.numpy()) if (i < len(targ_lang_tokenizer.word_index) and i not in [0,46,47])]  \n",
        "\n",
        "  print('Input: {}'.format(sentence))\n",
        "  print('Predicted translation: {}'.format(' '.join(predicted_sentence)))\n",
        "  \n",
        "  if plot:\n",
        "    plot_attention_weights(attention_weights, sentence, result, plot)"
      ],
      "execution_count": 0,
      "outputs": []
    },
    {
      "cell_type": "markdown",
      "metadata": {
        "id": "spiU0QDI2egM",
        "colab_type": "text"
      },
      "source": [
        "### Get Accuracy and Corpus BLEU"
      ]
    },
    {
      "cell_type": "code",
      "metadata": {
        "id": "tIQBWfa03ujc",
        "colab_type": "code",
        "colab": {}
      },
      "source": [
        "def evaluate_results(inp_sentence):\n",
        "  start_token = [len(inp_lang_tokenizer.word_index)+1]\n",
        "  end_token = [len(inp_lang_tokenizer.word_index)+2]\n",
        "  \n",
        "  # inp sentence is the word problem, hence adding the start and end token\n",
        "  inp_sentence = start_token + list(inp_sentence.numpy()[0]) + end_token\n",
        "  \n",
        "  encoder_input = tf.expand_dims(inp_sentence, 0)\n",
        "  \n",
        "  \n",
        "  decoder_input = [old_len+1]\n",
        "  output = tf.expand_dims(decoder_input, 0)\n",
        "    \n",
        "  for i in range(MAX_LENGTH):\n",
        "    enc_padding_mask, combined_mask, dec_padding_mask = create_masks(\n",
        "        encoder_input, output)\n",
        "  \n",
        "    # predictions.shape == (batch_size, seq_len, vocab_size)\n",
        "    predictions, attention_weights = transformer(encoder_input, \n",
        "                                                 output,\n",
        "                                                 False,\n",
        "                                                 enc_padding_mask,\n",
        "                                                 combined_mask,\n",
        "                                                 dec_padding_mask)\n",
        "    \n",
        "    # select the last word from the seq_len dimension\n",
        "    predictions = predictions[: ,-1:, :]  # (batch_size, 1, vocab_size)\n",
        "\n",
        "    predicted_id = tf.cast(tf.argmax(predictions, axis=-1), tf.int32)\n",
        "    \n",
        "    # return the result if the predicted_id is equal to the end token\n",
        "    if predicted_id == old_len+2:\n",
        "      return tf.squeeze(output, axis=0), attention_weights\n",
        "    \n",
        "    # concatentate the predicted_id to the output which is given to the decoder\n",
        "    # as its input.\n",
        "    output = tf.concat([output, predicted_id], axis=-1)\n",
        "\n",
        "  return tf.squeeze(output, axis=0), attention_weights"
      ],
      "execution_count": 0,
      "outputs": []
    },
    {
      "cell_type": "code",
      "metadata": {
        "id": "rTs5Q4Qf2qNv",
        "colab_type": "code",
        "colab": {}
      },
      "source": [
        "dataset_val = tf.data.Dataset.from_tensor_slices((input_tensor_val, target_tensor_val)).shuffle(BUFFER_SIZE)\n",
        "dataset_val = dataset_val.batch(1, drop_remainder=True)"
      ],
      "execution_count": 0,
      "outputs": []
    },
    {
      "cell_type": "code",
      "metadata": {
        "id": "HVyDC8zyo0uM",
        "colab_type": "code",
        "colab": {
          "base_uri": "https://localhost:8080/",
          "height": 1000
        },
        "outputId": "a3909780-e421-430f-80d6-7769b04ecad4"
      },
      "source": [
        "y_true = []\n",
        "y_pred = []\n",
        "acc_cnt = 0\n",
        "\n",
        "a = 0\n",
        "for (inp_val_batch, target_val_batch) in iter(dataset_val):\n",
        "  a += 1\n",
        "  if a % 10 == 0:\n",
        "    print(a)\n",
        "    print(\"Accuracy count: \",acc_cnt)\n",
        "    print('------------------')\n",
        "  target_sentence = ''\n",
        "  for i in target_val_batch.numpy()[0]:\n",
        "    if i not in [0,old_len+1,old_len+2]:\n",
        "      target_sentence += (targ_lang_tokenizer.index_word[i] + ' ')\n",
        "  \n",
        "  y_true.append([target_sentence.split(' ')[:-1]])\n",
        "  \n",
        "  result, _ = evaluate_results(inp_val_batch)\n",
        "  predicted_sentence = [targ_lang_tokenizer.index_word[i] for i in list(result.numpy()) if (i < len(targ_lang_tokenizer.word_index) and i not in [0,old_len+1,old_len+2])] \n",
        "  y_pred.append(predicted_sentence)\n",
        "  \n",
        "  if target_sentence.split(' ')[:-1] == predicted_sentence:\n",
        "    acc_cnt += 1"
      ],
      "execution_count": 99,
      "outputs": [
        {
          "output_type": "stream",
          "text": [
            "10\n",
            "Accuracy count:  8\n",
            "------------------\n",
            "20\n",
            "Accuracy count:  14\n",
            "------------------\n",
            "30\n",
            "Accuracy count:  21\n",
            "------------------\n",
            "40\n",
            "Accuracy count:  28\n",
            "------------------\n",
            "50\n",
            "Accuracy count:  34\n",
            "------------------\n",
            "60\n",
            "Accuracy count:  42\n",
            "------------------\n",
            "70\n",
            "Accuracy count:  50\n",
            "------------------\n",
            "80\n",
            "Accuracy count:  56\n",
            "------------------\n",
            "90\n",
            "Accuracy count:  64\n",
            "------------------\n",
            "100\n",
            "Accuracy count:  70\n",
            "------------------\n",
            "110\n",
            "Accuracy count:  80\n",
            "------------------\n",
            "120\n",
            "Accuracy count:  88\n",
            "------------------\n",
            "130\n",
            "Accuracy count:  93\n",
            "------------------\n",
            "140\n",
            "Accuracy count:  99\n",
            "------------------\n",
            "150\n",
            "Accuracy count:  105\n",
            "------------------\n",
            "160\n",
            "Accuracy count:  110\n",
            "------------------\n",
            "170\n",
            "Accuracy count:  118\n",
            "------------------\n",
            "180\n",
            "Accuracy count:  124\n",
            "------------------\n",
            "190\n",
            "Accuracy count:  132\n",
            "------------------\n",
            "200\n",
            "Accuracy count:  139\n",
            "------------------\n",
            "210\n",
            "Accuracy count:  145\n",
            "------------------\n",
            "220\n",
            "Accuracy count:  153\n",
            "------------------\n",
            "230\n",
            "Accuracy count:  159\n",
            "------------------\n",
            "240\n",
            "Accuracy count:  166\n",
            "------------------\n",
            "250\n",
            "Accuracy count:  172\n",
            "------------------\n",
            "260\n",
            "Accuracy count:  177\n",
            "------------------\n",
            "270\n",
            "Accuracy count:  184\n",
            "------------------\n",
            "280\n",
            "Accuracy count:  190\n",
            "------------------\n",
            "290\n",
            "Accuracy count:  197\n",
            "------------------\n",
            "300\n",
            "Accuracy count:  203\n",
            "------------------\n",
            "310\n",
            "Accuracy count:  212\n",
            "------------------\n",
            "320\n",
            "Accuracy count:  218\n",
            "------------------\n",
            "330\n",
            "Accuracy count:  223\n",
            "------------------\n",
            "340\n",
            "Accuracy count:  230\n",
            "------------------\n",
            "350\n",
            "Accuracy count:  235\n",
            "------------------\n",
            "360\n",
            "Accuracy count:  242\n",
            "------------------\n",
            "370\n",
            "Accuracy count:  250\n",
            "------------------\n",
            "380\n",
            "Accuracy count:  255\n",
            "------------------\n",
            "390\n",
            "Accuracy count:  263\n",
            "------------------\n",
            "400\n",
            "Accuracy count:  268\n",
            "------------------\n",
            "410\n",
            "Accuracy count:  273\n",
            "------------------\n",
            "420\n",
            "Accuracy count:  281\n",
            "------------------\n",
            "430\n",
            "Accuracy count:  287\n",
            "------------------\n",
            "440\n",
            "Accuracy count:  294\n",
            "------------------\n",
            "450\n",
            "Accuracy count:  297\n",
            "------------------\n",
            "460\n",
            "Accuracy count:  301\n",
            "------------------\n",
            "470\n",
            "Accuracy count:  310\n",
            "------------------\n",
            "480\n",
            "Accuracy count:  319\n",
            "------------------\n",
            "490\n",
            "Accuracy count:  323\n",
            "------------------\n",
            "500\n",
            "Accuracy count:  331\n",
            "------------------\n",
            "510\n",
            "Accuracy count:  335\n",
            "------------------\n",
            "520\n",
            "Accuracy count:  344\n",
            "------------------\n",
            "530\n",
            "Accuracy count:  353\n",
            "------------------\n",
            "540\n",
            "Accuracy count:  360\n",
            "------------------\n",
            "550\n",
            "Accuracy count:  365\n",
            "------------------\n",
            "560\n",
            "Accuracy count:  373\n",
            "------------------\n",
            "570\n",
            "Accuracy count:  378\n",
            "------------------\n",
            "580\n",
            "Accuracy count:  386\n",
            "------------------\n",
            "590\n",
            "Accuracy count:  390\n",
            "------------------\n",
            "600\n",
            "Accuracy count:  398\n",
            "------------------\n",
            "610\n",
            "Accuracy count:  404\n",
            "------------------\n",
            "620\n",
            "Accuracy count:  410\n",
            "------------------\n",
            "630\n",
            "Accuracy count:  417\n",
            "------------------\n",
            "640\n",
            "Accuracy count:  423\n",
            "------------------\n",
            "650\n",
            "Accuracy count:  430\n",
            "------------------\n",
            "660\n",
            "Accuracy count:  437\n",
            "------------------\n",
            "670\n",
            "Accuracy count:  445\n",
            "------------------\n",
            "680\n",
            "Accuracy count:  453\n",
            "------------------\n",
            "690\n",
            "Accuracy count:  462\n",
            "------------------\n",
            "700\n",
            "Accuracy count:  471\n",
            "------------------\n",
            "710\n",
            "Accuracy count:  478\n",
            "------------------\n",
            "720\n",
            "Accuracy count:  486\n",
            "------------------\n",
            "730\n",
            "Accuracy count:  495\n",
            "------------------\n",
            "740\n",
            "Accuracy count:  503\n",
            "------------------\n",
            "750\n",
            "Accuracy count:  509\n",
            "------------------\n",
            "760\n",
            "Accuracy count:  517\n",
            "------------------\n",
            "770\n",
            "Accuracy count:  523\n",
            "------------------\n",
            "780\n",
            "Accuracy count:  531\n",
            "------------------\n",
            "790\n",
            "Accuracy count:  535\n",
            "------------------\n",
            "800\n",
            "Accuracy count:  542\n",
            "------------------\n",
            "810\n",
            "Accuracy count:  548\n",
            "------------------\n",
            "820\n",
            "Accuracy count:  554\n",
            "------------------\n",
            "830\n",
            "Accuracy count:  561\n",
            "------------------\n",
            "840\n",
            "Accuracy count:  567\n",
            "------------------\n",
            "850\n",
            "Accuracy count:  575\n",
            "------------------\n",
            "860\n",
            "Accuracy count:  581\n",
            "------------------\n",
            "870\n",
            "Accuracy count:  587\n",
            "------------------\n",
            "880\n",
            "Accuracy count:  595\n",
            "------------------\n",
            "890\n",
            "Accuracy count:  602\n",
            "------------------\n",
            "900\n",
            "Accuracy count:  611\n",
            "------------------\n",
            "910\n",
            "Accuracy count:  617\n",
            "------------------\n",
            "920\n",
            "Accuracy count:  623\n",
            "------------------\n",
            "930\n",
            "Accuracy count:  632\n",
            "------------------\n",
            "940\n",
            "Accuracy count:  640\n",
            "------------------\n",
            "950\n",
            "Accuracy count:  647\n",
            "------------------\n",
            "960\n",
            "Accuracy count:  653\n",
            "------------------\n",
            "970\n",
            "Accuracy count:  659\n",
            "------------------\n",
            "980\n",
            "Accuracy count:  666\n",
            "------------------\n",
            "990\n",
            "Accuracy count:  674\n",
            "------------------\n",
            "1000\n",
            "Accuracy count:  681\n",
            "------------------\n",
            "1010\n",
            "Accuracy count:  688\n",
            "------------------\n",
            "1020\n",
            "Accuracy count:  696\n",
            "------------------\n",
            "1030\n",
            "Accuracy count:  703\n",
            "------------------\n",
            "1040\n",
            "Accuracy count:  711\n",
            "------------------\n",
            "1050\n",
            "Accuracy count:  720\n",
            "------------------\n",
            "1060\n",
            "Accuracy count:  728\n",
            "------------------\n",
            "1070\n",
            "Accuracy count:  735\n",
            "------------------\n",
            "1080\n",
            "Accuracy count:  741\n",
            "------------------\n",
            "1090\n",
            "Accuracy count:  745\n",
            "------------------\n",
            "1100\n",
            "Accuracy count:  753\n",
            "------------------\n",
            "1110\n",
            "Accuracy count:  762\n",
            "------------------\n",
            "1120\n",
            "Accuracy count:  768\n",
            "------------------\n",
            "1130\n",
            "Accuracy count:  775\n",
            "------------------\n",
            "1140\n",
            "Accuracy count:  784\n",
            "------------------\n",
            "1150\n",
            "Accuracy count:  792\n",
            "------------------\n",
            "1160\n",
            "Accuracy count:  798\n",
            "------------------\n",
            "1170\n",
            "Accuracy count:  805\n",
            "------------------\n",
            "1180\n",
            "Accuracy count:  813\n",
            "------------------\n",
            "1190\n",
            "Accuracy count:  818\n",
            "------------------\n",
            "1200\n",
            "Accuracy count:  826\n",
            "------------------\n",
            "1210\n",
            "Accuracy count:  833\n",
            "------------------\n",
            "1220\n",
            "Accuracy count:  841\n",
            "------------------\n",
            "1230\n",
            "Accuracy count:  847\n",
            "------------------\n",
            "1240\n",
            "Accuracy count:  854\n",
            "------------------\n",
            "1250\n",
            "Accuracy count:  861\n",
            "------------------\n",
            "1260\n",
            "Accuracy count:  868\n",
            "------------------\n",
            "1270\n",
            "Accuracy count:  874\n",
            "------------------\n",
            "1280\n",
            "Accuracy count:  881\n",
            "------------------\n",
            "1290\n",
            "Accuracy count:  891\n",
            "------------------\n",
            "1300\n",
            "Accuracy count:  899\n",
            "------------------\n",
            "1310\n",
            "Accuracy count:  907\n",
            "------------------\n",
            "1320\n",
            "Accuracy count:  913\n",
            "------------------\n",
            "1330\n",
            "Accuracy count:  919\n",
            "------------------\n",
            "1340\n",
            "Accuracy count:  922\n",
            "------------------\n",
            "1350\n",
            "Accuracy count:  930\n",
            "------------------\n",
            "1360\n",
            "Accuracy count:  937\n",
            "------------------\n",
            "1370\n",
            "Accuracy count:  944\n",
            "------------------\n",
            "1380\n",
            "Accuracy count:  953\n",
            "------------------\n",
            "1390\n",
            "Accuracy count:  961\n",
            "------------------\n",
            "1400\n",
            "Accuracy count:  966\n",
            "------------------\n",
            "1410\n",
            "Accuracy count:  972\n",
            "------------------\n",
            "1420\n",
            "Accuracy count:  978\n",
            "------------------\n",
            "1430\n",
            "Accuracy count:  984\n",
            "------------------\n",
            "1440\n",
            "Accuracy count:  991\n",
            "------------------\n",
            "1450\n",
            "Accuracy count:  999\n",
            "------------------\n",
            "1460\n",
            "Accuracy count:  1006\n",
            "------------------\n",
            "1470\n",
            "Accuracy count:  1014\n",
            "------------------\n",
            "1480\n",
            "Accuracy count:  1019\n",
            "------------------\n",
            "1490\n",
            "Accuracy count:  1025\n",
            "------------------\n",
            "1500\n",
            "Accuracy count:  1033\n",
            "------------------\n",
            "1510\n",
            "Accuracy count:  1041\n",
            "------------------\n",
            "1520\n",
            "Accuracy count:  1047\n",
            "------------------\n",
            "1530\n",
            "Accuracy count:  1054\n",
            "------------------\n",
            "1540\n",
            "Accuracy count:  1059\n",
            "------------------\n",
            "1550\n",
            "Accuracy count:  1065\n",
            "------------------\n",
            "1560\n",
            "Accuracy count:  1071\n",
            "------------------\n",
            "1570\n",
            "Accuracy count:  1077\n",
            "------------------\n",
            "1580\n",
            "Accuracy count:  1086\n",
            "------------------\n",
            "1590\n",
            "Accuracy count:  1091\n",
            "------------------\n",
            "1600\n",
            "Accuracy count:  1098\n",
            "------------------\n",
            "1610\n",
            "Accuracy count:  1106\n",
            "------------------\n",
            "1620\n",
            "Accuracy count:  1114\n",
            "------------------\n",
            "1630\n",
            "Accuracy count:  1120\n",
            "------------------\n",
            "1640\n",
            "Accuracy count:  1127\n",
            "------------------\n",
            "1650\n",
            "Accuracy count:  1135\n",
            "------------------\n",
            "1660\n",
            "Accuracy count:  1144\n",
            "------------------\n",
            "1670\n",
            "Accuracy count:  1152\n",
            "------------------\n",
            "1680\n",
            "Accuracy count:  1159\n",
            "------------------\n",
            "1690\n",
            "Accuracy count:  1165\n",
            "------------------\n",
            "1700\n",
            "Accuracy count:  1171\n",
            "------------------\n",
            "1710\n",
            "Accuracy count:  1176\n",
            "------------------\n",
            "1720\n",
            "Accuracy count:  1183\n",
            "------------------\n",
            "1730\n",
            "Accuracy count:  1188\n",
            "------------------\n",
            "1740\n",
            "Accuracy count:  1193\n",
            "------------------\n",
            "1750\n",
            "Accuracy count:  1199\n",
            "------------------\n",
            "1760\n",
            "Accuracy count:  1205\n",
            "------------------\n",
            "1770\n",
            "Accuracy count:  1212\n",
            "------------------\n",
            "1780\n",
            "Accuracy count:  1216\n",
            "------------------\n",
            "1790\n",
            "Accuracy count:  1220\n",
            "------------------\n",
            "1800\n",
            "Accuracy count:  1226\n",
            "------------------\n",
            "1810\n",
            "Accuracy count:  1233\n",
            "------------------\n",
            "1820\n",
            "Accuracy count:  1240\n",
            "------------------\n",
            "1830\n",
            "Accuracy count:  1248\n",
            "------------------\n",
            "1840\n",
            "Accuracy count:  1254\n",
            "------------------\n",
            "1850\n",
            "Accuracy count:  1261\n",
            "------------------\n",
            "1860\n",
            "Accuracy count:  1269\n",
            "------------------\n",
            "1870\n",
            "Accuracy count:  1278\n",
            "------------------\n",
            "1880\n",
            "Accuracy count:  1288\n",
            "------------------\n",
            "1890\n",
            "Accuracy count:  1295\n",
            "------------------\n",
            "1900\n",
            "Accuracy count:  1303\n",
            "------------------\n"
          ],
          "name": "stdout"
        }
      ]
    },
    {
      "cell_type": "code",
      "metadata": {
        "id": "Glj16cyQ7FJe",
        "colab_type": "code",
        "colab": {
          "base_uri": "https://localhost:8080/",
          "height": 34
        },
        "outputId": "4f674bee-67dd-43b9-bb8e-2e843b9a9c73"
      },
      "source": [
        "len(y_true), len(y_pred)"
      ],
      "execution_count": 103,
      "outputs": [
        {
          "output_type": "execute_result",
          "data": {
            "text/plain": [
              "(1908, 1908)"
            ]
          },
          "metadata": {
            "tags": []
          },
          "execution_count": 103
        }
      ]
    },
    {
      "cell_type": "code",
      "metadata": {
        "id": "daGaIvQW7riI",
        "colab_type": "code",
        "outputId": "b37e8b46-6f5f-4c93-f5e0-e829833d7b7d",
        "colab": {
          "base_uri": "https://localhost:8080/",
          "height": 34
        }
      },
      "source": [
        "print('Corpus BLEU score of the model: ', corpus_bleu(y_true, y_pred))"
      ],
      "execution_count": 104,
      "outputs": [
        {
          "output_type": "stream",
          "text": [
            "Corpus BLEU score of the model:  0.7059019932357546\n"
          ],
          "name": "stdout"
        }
      ]
    },
    {
      "cell_type": "code",
      "metadata": {
        "id": "bcswXaKS5ssh",
        "colab_type": "code",
        "outputId": "083aa5fc-0690-415b-e26a-bb9944efd551",
        "colab": {
          "base_uri": "https://localhost:8080/",
          "height": 34
        }
      },
      "source": [
        "print('Accuracy of the model: ', acc_cnt/len(input_tensor_val))"
      ],
      "execution_count": 105,
      "outputs": [
        {
          "output_type": "stream",
          "text": [
            "Accuracy of the model:  0.6860587002096437\n"
          ],
          "name": "stdout"
        }
      ]
    },
    {
      "cell_type": "markdown",
      "metadata": {
        "id": "0SFJifWj7AtQ",
        "colab_type": "text"
      },
      "source": [
        "#### Translation"
      ]
    },
    {
      "cell_type": "code",
      "metadata": {
        "colab_type": "code",
        "id": "GEmx2HVO6_cC",
        "colab": {}
      },
      "source": [
        "check_str = ' '.join([inp_lang_tokenizer.index_word[i] for i in input_tensor_val[242] if i not in [0,\n",
        "                                                                                                  len(inp_lang_tokenizer.word_index)+1,\n",
        "                                                                                                  len(inp_lang_tokenizer.word_index)+2]])"
      ],
      "execution_count": 0,
      "outputs": []
    },
    {
      "cell_type": "code",
      "metadata": {
        "colab_type": "code",
        "outputId": "22fd5088-52d9-4b90-e1a3-67f091e7319a",
        "id": "A_fyWhFZ6_cG",
        "colab": {
          "base_uri": "https://localhost:8080/",
          "height": 34
        }
      },
      "source": [
        "check_str"
      ],
      "execution_count": 110,
      "outputs": [
        {
          "output_type": "execute_result",
          "data": {
            "text/plain": [
              "'victor had some car . john took 3 0 from him . now victor has 6 8 car . how many car victor had originally ?'"
            ]
          },
          "metadata": {
            "tags": []
          },
          "execution_count": 110
        }
      ]
    },
    {
      "cell_type": "code",
      "metadata": {
        "colab_type": "code",
        "outputId": "c4cb43fd-0aac-4bb4-ac2e-45b0e318fe6e",
        "id": "-fPqedk46_cM",
        "colab": {
          "base_uri": "https://localhost:8080/",
          "height": 465
        }
      },
      "source": [
        "translate(check_str,\n",
        "          plot='decoder_layer4_block2')"
      ],
      "execution_count": 111,
      "outputs": [
        {
          "output_type": "stream",
          "text": [
            "Input: victor had some car . john took 3 0 from him . now victor has 6 8 car . how many car victor had originally ?\n",
            "Predicted translation: x = 6 8 + 3 0\n"
          ],
          "name": "stdout"
        },
        {
          "output_type": "display_data",
          "data": {
            "image/png": "[encoded data removed]",
            "text/plain": [
              "<Figure size 1152x576 with 8 Axes>"
            ]
          },
          "metadata": {
            "tags": []
          }
        }
      ]
    },
    {
      "cell_type": "code",
      "metadata": {
        "colab_type": "code",
        "outputId": "c7413c8e-ca9e-4192-842d-9b825372144c",
        "id": "8Pm4N7Xo6_cN",
        "colab": {
          "base_uri": "https://localhost:8080/",
          "height": 54
        }
      },
      "source": [
        "check_str = ' '.join([inp_lang_tokenizer.index_word[i] for i in input_tensor_val[0] if i not in [0,\n",
        "                                                                                                  len(inp_lang_tokenizer.word_index)+1,\n",
        "                                                                                                  len(inp_lang_tokenizer.word_index)+2]])\n",
        "check_str"
      ],
      "execution_count": 112,
      "outputs": [
        {
          "output_type": "execute_result",
          "data": {
            "text/plain": [
              "'ronnie had some blackberry . he divide each blackberry into 1 3 slices . if total 1 8 9 blackberry slices ronnie make , then how many blackberry ronnie had ?'"
            ]
          },
          "metadata": {
            "tags": []
          },
          "execution_count": 112
        }
      ]
    },
    {
      "cell_type": "code",
      "metadata": {
        "colab_type": "code",
        "outputId": "e3dbbc4a-20fe-4317-d7dc-e19d92ab600a",
        "id": "M4zBzmcq6_cP",
        "colab": {
          "base_uri": "https://localhost:8080/",
          "height": 471
        }
      },
      "source": [
        "translate(check_str,\n",
        "          plot='decoder_layer4_block2')"
      ],
      "execution_count": 113,
      "outputs": [
        {
          "output_type": "stream",
          "text": [
            "Input: ronnie had some blackberry . he divide each blackberry into 1 3 slices . if total 1 8 9 blackberry slices ronnie make , then how many blackberry ronnie had ?\n",
            "Predicted translation: x = 1 8 9 / 1 3\n"
          ],
          "name": "stdout"
        },
        {
          "output_type": "display_data",
          "data": {
            "image/png": "[encoded data removed]",
            "text/plain": [
              "<Figure size 1152x576 with 8 Axes>"
            ]
          },
          "metadata": {
            "tags": []
          }
        }
      ]
    },
    {
      "cell_type": "code",
      "metadata": {
        "colab_type": "code",
        "outputId": "e7cf20a3-73bf-4fd5-e37a-ba86d306f4d9",
        "id": "EUVJbPnJ6_cV",
        "colab": {
          "base_uri": "https://localhost:8080/",
          "height": 34
        }
      },
      "source": [
        "check_str = ' '.join([inp_lang_tokenizer.index_word[i] for i in input_tensor_val[234] if i not in [0,\n",
        "                                                                                                  len(inp_lang_tokenizer.word_index)+1,\n",
        "                                                                                                  len(inp_lang_tokenizer.word_index)+2]])\n",
        "check_str"
      ],
      "execution_count": 114,
      "outputs": [
        {
          "output_type": "execute_result",
          "data": {
            "text/plain": [
              "'april had 8 biscuit . he cube each biscuit into 1 9 slices . how many biscuit slices did april make ?'"
            ]
          },
          "metadata": {
            "tags": []
          },
          "execution_count": 114
        }
      ]
    },
    {
      "cell_type": "code",
      "metadata": {
        "colab_type": "code",
        "outputId": "c9d2bd21-7f40-4e52-a1eb-b887439759a8",
        "id": "RFbRPr916_cY",
        "colab": {
          "base_uri": "https://localhost:8080/",
          "height": 456
        }
      },
      "source": [
        "translate(check_str,\n",
        "          plot='decoder_layer4_block2')"
      ],
      "execution_count": 115,
      "outputs": [
        {
          "output_type": "stream",
          "text": [
            "Input: april had 8 biscuit . he cube each biscuit into 1 9 slices . how many biscuit slices did april make ?\n",
            "Predicted translation: x = 1 9 * 8\n"
          ],
          "name": "stdout"
        },
        {
          "output_type": "display_data",
          "data": {
            "image/png": "[encoded data removed]",
            "text/plain": [
              "<Figure size 1152x576 with 8 Axes>"
            ]
          },
          "metadata": {
            "tags": []
          }
        }
      ]
    },
    {
      "cell_type": "code",
      "metadata": {
        "colab_type": "code",
        "outputId": "40bd4076-25cb-4c96-df39-87b4cce5fe03",
        "id": "xQOswvCM6_cZ",
        "colab": {
          "base_uri": "https://localhost:8080/",
          "height": 491
        }
      },
      "source": [
        "translate(\"Jerry had 135 pens. John took 19 from him. How many pens Jerry have left?\",\n",
        "          plot='decoder_layer4_block2')"
      ],
      "execution_count": 116,
      "outputs": [
        {
          "output_type": "stream",
          "text": [
            "Input: Jerry had 135 pens. John took 19 from him. How many pens Jerry have left?\n",
            "Predicted translation: x = 1 3 5 / 1 9\n"
          ],
          "name": "stdout"
        },
        {
          "output_type": "display_data",
          "data": {
            "image/png": "[encoded data removed]",
            "text/plain": [
              "<Figure size 1152x576 with 8 Axes>"
            ]
          },
          "metadata": {
            "tags": []
          }
        }
      ]
    },
    {
      "cell_type": "markdown",
      "metadata": {
        "id": "f6ERVfc2FKJ8",
        "colab_type": "text"
      },
      "source": [
        "### Conclusions"
      ]
    },
    {
      "cell_type": "markdown",
      "metadata": {
        "id": "QPktUoq4FKFw",
        "colab_type": "text"
      },
      "source": [
        "We see that the scores for the transformer model are much higher than the Bidirectional Seq2Seq model, and that the attention plots are also better (all the layers and heads) than the previous model. This indicates that this model performs better on our data than the Seq2Seq model. BUt we can see that it has still not been able to learn which words to give proper attention to while deciding the operator to use. \n",
        "Moreover, the issue of the dataset not being diverse enough still remains, and this model does not perform very well on questions that do not match the rough format of the questions in the data. \n",
        "\n",
        "Sources:\n",
        "1. https://web.stanford.edu/class/cs224n/reports/custom/15843468.pdf\n",
        "2. https://www.tensorflow.org/tutorials/text/transformer#top_of_page"
      ]
    }
  ]
}